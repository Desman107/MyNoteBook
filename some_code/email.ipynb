{
 "cells": [
  {
   "cell_type": "code",
   "execution_count": 10,
   "metadata": {},
   "outputs": [],
   "source": [
    "import poplib\n",
    "import email.parser, email.policy\n",
    "conn = poplib.POP3_SSL('pop.qq.com', 995) "
   ]
  },
  {
   "cell_type": "code",
   "execution_count": 11,
   "metadata": {},
   "outputs": [
    {
     "data": {
      "text/plain": [
       "b'+OK'"
      ]
     },
     "execution_count": 11,
     "metadata": {},
     "output_type": "execute_result"
    }
   ],
   "source": [
    "conn.user('2548538192@qq.com')   \n",
    "conn.pass_('wfstimcarhefdide') # 注意输入的是邮箱授权码而不是真实 QQ 密码"
   ]
  },
  {
   "cell_type": "code",
   "execution_count": 12,
   "metadata": {},
   "outputs": [
    {
     "name": "stdout",
     "output_type": "stream",
     "text": [
      "响应： b'+OK'\n",
      "邮件列表： [b'1 7448', b'2 39711', b'3 7685', b'4 46145', b'5 7730', b'6 6865', b'7 46109', b'8 8318', b'9 7188', b'10 60788', b'11 20674', b'12 11111', b'13 41484', b'14 20487', b'15 7669', b'16 16678', b'17 7921', b'18 3640', b'19 3032', b'20 7564', b'21 54927', b'22 24181', b'23 7980', b'24 13108', b'25 28203', b'26 68924', b'27 74455', b'28 74463', b'29 4028', b'30 143081', b'31 74464', b'32 37210', b'33 37760', b'34 38414', b'35 1054654', b'36 1157055', b'37 60978', b'38 1046701', b'39 655363', b'40 1531677', b'41 144665', b'42 1414492', b'43 1174998', b'44 520921', b'45 3605986', b'46 8531']\n"
     ]
    }
   ],
   "source": [
    "response, maillist, r = conn.list()\n",
    "print('响应：', response)\n",
    "print('邮件列表：', maillist) "
   ]
  },
  {
   "cell_type": "code",
   "execution_count": 18,
   "metadata": {},
   "outputs": [
    {
     "name": "stdout",
     "output_type": "stream",
     "text": [
      "会员开通成功提醒\n",
      "艾沃尔的氏族已经准备踏上英格兰的土地...\n",
      "您 Steam 愿望单上的 Middle-earth™: Shadow of War™ 正在特卖！\n",
      "感谢您在 Steam 上的购买！\n",
      "《刺客信条：英灵殿》现已推出\n",
      "会员开通成功提醒\n",
      "黑五促销现在开始！最大2折！\n",
      "Counter-Strike: Global Offensive - 全新更新\n",
      "会员开通成功提醒\n",
      "挥别2020年，以低至2折的优惠开启新年\n",
      "GeForce 升级正当时 - 显卡和电脑主机  ✨ 🎄 🎁\n",
      "您 Steam 愿望单上的 FaceRig 及另外一个项目正在特卖！\n",
      "GeForce 升级季来了 - 游戏笔记本电脑  🎄 🎁\n",
      "[Mcbbs.net] 取回密码说明\n",
      "收看：1 月 13 日的“GeForce RTX：Game On”活动\n",
      "会员服务即将到期提醒\n",
      "会员服务到期提醒\n"
     ]
    },
    {
     "ename": "abort",
     "evalue": "command: CLOSE => unexpected response: b''",
     "output_type": "error",
     "traceback": [
      "\u001b[1;31m---------------------------------------------------------------------------\u001b[0m",
      "\u001b[1;31mKeyboardInterrupt\u001b[0m                         Traceback (most recent call last)",
      "Cell \u001b[1;32mIn[18], line 9\u001b[0m\n\u001b[0;32m      8\u001b[0m inbox_messages \u001b[38;5;241m=\u001b[39m imbox\u001b[38;5;241m.\u001b[39mmessages(date__on\u001b[38;5;241m=\u001b[39m[\u001b[38;5;124m'\u001b[39m\u001b[38;5;124mSINCE\u001b[39m\u001b[38;5;124m'\u001b[39m,datetime\u001b[38;5;241m.\u001b[39mdate(\u001b[38;5;241m2024\u001b[39m, \u001b[38;5;241m3\u001b[39m, \u001b[38;5;241m19\u001b[39m)]) \n\u001b[1;32m----> 9\u001b[0m \u001b[38;5;28;01mfor\u001b[39;00m uid, message \u001b[38;5;129;01min\u001b[39;00m inbox_messages: \n\u001b[0;32m     10\u001b[0m     \u001b[38;5;28mprint\u001b[39m(message\u001b[38;5;241m.\u001b[39msubject)\n",
      "File \u001b[1;32md:\\ana\\lib\\site-packages\\imbox\\messages.py:55\u001b[0m, in \u001b[0;36mMessages._fetch_email_list\u001b[1;34m(self)\u001b[0m\n\u001b[0;32m     54\u001b[0m \u001b[38;5;28;01mfor\u001b[39;00m uid \u001b[38;5;129;01min\u001b[39;00m \u001b[38;5;28mself\u001b[39m\u001b[38;5;241m.\u001b[39m_uid_list:\n\u001b[1;32m---> 55\u001b[0m     \u001b[38;5;28;01myield\u001b[39;00m uid, \u001b[38;5;28;43mself\u001b[39;49m\u001b[38;5;241;43m.\u001b[39;49m\u001b[43m_fetch_email\u001b[49m\u001b[43m(\u001b[49m\u001b[43muid\u001b[49m\u001b[43m)\u001b[49m\n",
      "File \u001b[1;32md:\\ana\\lib\\site-packages\\imbox\\messages.py:42\u001b[0m, in \u001b[0;36mMessages._fetch_email\u001b[1;34m(self, uid)\u001b[0m\n\u001b[0;32m     41\u001b[0m \u001b[38;5;28;01mdef\u001b[39;00m \u001b[38;5;21m_fetch_email\u001b[39m(\u001b[38;5;28mself\u001b[39m, uid):\n\u001b[1;32m---> 42\u001b[0m     \u001b[38;5;28;01mreturn\u001b[39;00m \u001b[43mfetch_email_by_uid\u001b[49m\u001b[43m(\u001b[49m\u001b[43muid\u001b[49m\u001b[38;5;241;43m=\u001b[39;49m\u001b[43muid\u001b[49m\u001b[43m,\u001b[49m\n\u001b[0;32m     43\u001b[0m \u001b[43m                              \u001b[49m\u001b[43mconnection\u001b[49m\u001b[38;5;241;43m=\u001b[39;49m\u001b[38;5;28;43mself\u001b[39;49m\u001b[38;5;241;43m.\u001b[39;49m\u001b[43mconnection\u001b[49m\u001b[43m,\u001b[49m\n\u001b[0;32m     44\u001b[0m \u001b[43m                              \u001b[49m\u001b[43mparser_policy\u001b[49m\u001b[38;5;241;43m=\u001b[39;49m\u001b[38;5;28;43mself\u001b[39;49m\u001b[38;5;241;43m.\u001b[39;49m\u001b[43mparser_policy\u001b[49m\u001b[43m)\u001b[49m\n",
      "File \u001b[1;32md:\\ana\\lib\\site-packages\\imbox\\parser.py:150\u001b[0m, in \u001b[0;36mfetch_email_by_uid\u001b[1;34m(uid, connection, parser_policy)\u001b[0m\n\u001b[0;32m    149\u001b[0m \u001b[38;5;28;01mdef\u001b[39;00m \u001b[38;5;21mfetch_email_by_uid\u001b[39m(uid, connection, parser_policy):\n\u001b[1;32m--> 150\u001b[0m     message, data \u001b[38;5;241m=\u001b[39m \u001b[43mconnection\u001b[49m\u001b[38;5;241;43m.\u001b[39;49m\u001b[43muid\u001b[49m\u001b[43m(\u001b[49m\u001b[38;5;124;43m'\u001b[39;49m\u001b[38;5;124;43mfetch\u001b[39;49m\u001b[38;5;124;43m'\u001b[39;49m\u001b[43m,\u001b[49m\u001b[43m \u001b[49m\u001b[43muid\u001b[49m\u001b[43m,\u001b[49m\u001b[43m \u001b[49m\u001b[38;5;124;43m'\u001b[39;49m\u001b[38;5;124;43m(BODY.PEEK[] FLAGS)\u001b[39;49m\u001b[38;5;124;43m'\u001b[39;49m\u001b[43m)\u001b[49m\n\u001b[0;32m    151\u001b[0m     logger\u001b[38;5;241m.\u001b[39mdebug(\u001b[38;5;124m\"\u001b[39m\u001b[38;5;124mFetched message for UID \u001b[39m\u001b[38;5;132;01m{}\u001b[39;00m\u001b[38;5;124m\"\u001b[39m\u001b[38;5;241m.\u001b[39mformat(\u001b[38;5;28mint\u001b[39m(uid)))\n",
      "File \u001b[1;32md:\\ana\\lib\\imaplib.py:890\u001b[0m, in \u001b[0;36mIMAP4.uid\u001b[1;34m(self, command, *args)\u001b[0m\n\u001b[0;32m    889\u001b[0m name \u001b[38;5;241m=\u001b[39m \u001b[38;5;124m'\u001b[39m\u001b[38;5;124mUID\u001b[39m\u001b[38;5;124m'\u001b[39m\n\u001b[1;32m--> 890\u001b[0m typ, dat \u001b[38;5;241m=\u001b[39m \u001b[38;5;28;43mself\u001b[39;49m\u001b[38;5;241;43m.\u001b[39;49m\u001b[43m_simple_command\u001b[49m\u001b[43m(\u001b[49m\u001b[43mname\u001b[49m\u001b[43m,\u001b[49m\u001b[43m \u001b[49m\u001b[43mcommand\u001b[49m\u001b[43m,\u001b[49m\u001b[43m \u001b[49m\u001b[38;5;241;43m*\u001b[39;49m\u001b[43margs\u001b[49m\u001b[43m)\u001b[49m\n\u001b[0;32m    891\u001b[0m \u001b[38;5;28;01mif\u001b[39;00m command \u001b[38;5;129;01min\u001b[39;00m (\u001b[38;5;124m'\u001b[39m\u001b[38;5;124mSEARCH\u001b[39m\u001b[38;5;124m'\u001b[39m, \u001b[38;5;124m'\u001b[39m\u001b[38;5;124mSORT\u001b[39m\u001b[38;5;124m'\u001b[39m, \u001b[38;5;124m'\u001b[39m\u001b[38;5;124mTHREAD\u001b[39m\u001b[38;5;124m'\u001b[39m):\n",
      "File \u001b[1;32md:\\ana\\lib\\imaplib.py:1230\u001b[0m, in \u001b[0;36mIMAP4._simple_command\u001b[1;34m(self, name, *args)\u001b[0m\n\u001b[0;32m   1228\u001b[0m \u001b[38;5;28;01mdef\u001b[39;00m \u001b[38;5;21m_simple_command\u001b[39m(\u001b[38;5;28mself\u001b[39m, name, \u001b[38;5;241m*\u001b[39margs):\n\u001b[1;32m-> 1230\u001b[0m     \u001b[38;5;28;01mreturn\u001b[39;00m \u001b[38;5;28;43mself\u001b[39;49m\u001b[38;5;241;43m.\u001b[39;49m\u001b[43m_command_complete\u001b[49m\u001b[43m(\u001b[49m\u001b[43mname\u001b[49m\u001b[43m,\u001b[49m\u001b[43m \u001b[49m\u001b[38;5;28;43mself\u001b[39;49m\u001b[38;5;241;43m.\u001b[39;49m\u001b[43m_command\u001b[49m\u001b[43m(\u001b[49m\u001b[43mname\u001b[49m\u001b[43m,\u001b[49m\u001b[43m \u001b[49m\u001b[38;5;241;43m*\u001b[39;49m\u001b[43margs\u001b[49m\u001b[43m)\u001b[49m\u001b[43m)\u001b[49m\n",
      "File \u001b[1;32md:\\ana\\lib\\imaplib.py:1047\u001b[0m, in \u001b[0;36mIMAP4._command_complete\u001b[1;34m(self, name, tag)\u001b[0m\n\u001b[0;32m   1046\u001b[0m \u001b[38;5;28;01mtry\u001b[39;00m:\n\u001b[1;32m-> 1047\u001b[0m     typ, data \u001b[38;5;241m=\u001b[39m \u001b[38;5;28;43mself\u001b[39;49m\u001b[38;5;241;43m.\u001b[39;49m\u001b[43m_get_tagged_response\u001b[49m\u001b[43m(\u001b[49m\u001b[43mtag\u001b[49m\u001b[43m,\u001b[49m\u001b[43m \u001b[49m\u001b[43mexpect_bye\u001b[49m\u001b[38;5;241;43m=\u001b[39;49m\u001b[43mlogout\u001b[49m\u001b[43m)\u001b[49m\n\u001b[0;32m   1048\u001b[0m \u001b[38;5;28;01mexcept\u001b[39;00m \u001b[38;5;28mself\u001b[39m\u001b[38;5;241m.\u001b[39mabort \u001b[38;5;28;01mas\u001b[39;00m val:\n",
      "File \u001b[1;32md:\\ana\\lib\\imaplib.py:1173\u001b[0m, in \u001b[0;36mIMAP4._get_tagged_response\u001b[1;34m(self, tag, expect_bye)\u001b[0m\n\u001b[0;32m   1172\u001b[0m \u001b[38;5;28;01mtry\u001b[39;00m:\n\u001b[1;32m-> 1173\u001b[0m     \u001b[38;5;28;43mself\u001b[39;49m\u001b[38;5;241;43m.\u001b[39;49m\u001b[43m_get_response\u001b[49m\u001b[43m(\u001b[49m\u001b[43m)\u001b[49m\n\u001b[0;32m   1174\u001b[0m \u001b[38;5;28;01mexcept\u001b[39;00m \u001b[38;5;28mself\u001b[39m\u001b[38;5;241m.\u001b[39mabort \u001b[38;5;28;01mas\u001b[39;00m val:\n",
      "File \u001b[1;32md:\\ana\\lib\\imaplib.py:1075\u001b[0m, in \u001b[0;36mIMAP4._get_response\u001b[1;34m(self)\u001b[0m\n\u001b[0;32m   1068\u001b[0m \u001b[38;5;28;01mdef\u001b[39;00m \u001b[38;5;21m_get_response\u001b[39m(\u001b[38;5;28mself\u001b[39m):\n\u001b[0;32m   1069\u001b[0m \n\u001b[0;32m   1070\u001b[0m     \u001b[38;5;66;03m# Read response and store.\u001b[39;00m\n\u001b[0;32m   1071\u001b[0m     \u001b[38;5;66;03m#\u001b[39;00m\n\u001b[0;32m   1072\u001b[0m     \u001b[38;5;66;03m# Returns None for continuation responses,\u001b[39;00m\n\u001b[0;32m   1073\u001b[0m     \u001b[38;5;66;03m# otherwise first response line received.\u001b[39;00m\n\u001b[1;32m-> 1075\u001b[0m     resp \u001b[38;5;241m=\u001b[39m \u001b[38;5;28;43mself\u001b[39;49m\u001b[38;5;241;43m.\u001b[39;49m\u001b[43m_get_line\u001b[49m\u001b[43m(\u001b[49m\u001b[43m)\u001b[49m\n\u001b[0;32m   1077\u001b[0m     \u001b[38;5;66;03m# Command completion response?\u001b[39;00m\n",
      "File \u001b[1;32md:\\ana\\lib\\imaplib.py:1183\u001b[0m, in \u001b[0;36mIMAP4._get_line\u001b[1;34m(self)\u001b[0m\n\u001b[0;32m   1181\u001b[0m \u001b[38;5;28;01mdef\u001b[39;00m \u001b[38;5;21m_get_line\u001b[39m(\u001b[38;5;28mself\u001b[39m):\n\u001b[1;32m-> 1183\u001b[0m     line \u001b[38;5;241m=\u001b[39m \u001b[38;5;28;43mself\u001b[39;49m\u001b[38;5;241;43m.\u001b[39;49m\u001b[43mreadline\u001b[49m\u001b[43m(\u001b[49m\u001b[43m)\u001b[49m\n\u001b[0;32m   1184\u001b[0m     \u001b[38;5;28;01mif\u001b[39;00m \u001b[38;5;129;01mnot\u001b[39;00m line:\n",
      "File \u001b[1;32md:\\ana\\lib\\imaplib.py:323\u001b[0m, in \u001b[0;36mIMAP4.readline\u001b[1;34m(self)\u001b[0m\n\u001b[0;32m    322\u001b[0m \u001b[38;5;124;03m\"\"\"Read line from remote.\"\"\"\u001b[39;00m\n\u001b[1;32m--> 323\u001b[0m line \u001b[38;5;241m=\u001b[39m \u001b[38;5;28;43mself\u001b[39;49m\u001b[38;5;241;43m.\u001b[39;49m\u001b[43mfile\u001b[49m\u001b[38;5;241;43m.\u001b[39;49m\u001b[43mreadline\u001b[49m\u001b[43m(\u001b[49m\u001b[43m_MAXLINE\u001b[49m\u001b[43m \u001b[49m\u001b[38;5;241;43m+\u001b[39;49m\u001b[43m \u001b[49m\u001b[38;5;241;43m1\u001b[39;49m\u001b[43m)\u001b[49m\n\u001b[0;32m    324\u001b[0m \u001b[38;5;28;01mif\u001b[39;00m \u001b[38;5;28mlen\u001b[39m(line) \u001b[38;5;241m>\u001b[39m _MAXLINE:\n",
      "File \u001b[1;32md:\\ana\\lib\\socket.py:705\u001b[0m, in \u001b[0;36mSocketIO.readinto\u001b[1;34m(self, b)\u001b[0m\n\u001b[0;32m    704\u001b[0m \u001b[38;5;28;01mtry\u001b[39;00m:\n\u001b[1;32m--> 705\u001b[0m     \u001b[38;5;28;01mreturn\u001b[39;00m \u001b[38;5;28;43mself\u001b[39;49m\u001b[38;5;241;43m.\u001b[39;49m\u001b[43m_sock\u001b[49m\u001b[38;5;241;43m.\u001b[39;49m\u001b[43mrecv_into\u001b[49m\u001b[43m(\u001b[49m\u001b[43mb\u001b[49m\u001b[43m)\u001b[49m\n\u001b[0;32m    706\u001b[0m \u001b[38;5;28;01mexcept\u001b[39;00m timeout:\n",
      "File \u001b[1;32md:\\ana\\lib\\ssl.py:1274\u001b[0m, in \u001b[0;36mSSLSocket.recv_into\u001b[1;34m(self, buffer, nbytes, flags)\u001b[0m\n\u001b[0;32m   1271\u001b[0m         \u001b[38;5;28;01mraise\u001b[39;00m \u001b[38;5;167;01mValueError\u001b[39;00m(\n\u001b[0;32m   1272\u001b[0m           \u001b[38;5;124m\"\u001b[39m\u001b[38;5;124mnon-zero flags not allowed in calls to recv_into() on \u001b[39m\u001b[38;5;132;01m%s\u001b[39;00m\u001b[38;5;124m\"\u001b[39m \u001b[38;5;241m%\u001b[39m\n\u001b[0;32m   1273\u001b[0m           \u001b[38;5;28mself\u001b[39m\u001b[38;5;241m.\u001b[39m\u001b[38;5;18m__class__\u001b[39m)\n\u001b[1;32m-> 1274\u001b[0m     \u001b[38;5;28;01mreturn\u001b[39;00m \u001b[38;5;28;43mself\u001b[39;49m\u001b[38;5;241;43m.\u001b[39;49m\u001b[43mread\u001b[49m\u001b[43m(\u001b[49m\u001b[43mnbytes\u001b[49m\u001b[43m,\u001b[49m\u001b[43m \u001b[49m\u001b[43mbuffer\u001b[49m\u001b[43m)\u001b[49m\n\u001b[0;32m   1275\u001b[0m \u001b[38;5;28;01melse\u001b[39;00m:\n",
      "File \u001b[1;32md:\\ana\\lib\\ssl.py:1130\u001b[0m, in \u001b[0;36mSSLSocket.read\u001b[1;34m(self, len, buffer)\u001b[0m\n\u001b[0;32m   1129\u001b[0m \u001b[38;5;28;01mif\u001b[39;00m buffer \u001b[38;5;129;01mis\u001b[39;00m \u001b[38;5;129;01mnot\u001b[39;00m \u001b[38;5;28;01mNone\u001b[39;00m:\n\u001b[1;32m-> 1130\u001b[0m     \u001b[38;5;28;01mreturn\u001b[39;00m \u001b[38;5;28;43mself\u001b[39;49m\u001b[38;5;241;43m.\u001b[39;49m\u001b[43m_sslobj\u001b[49m\u001b[38;5;241;43m.\u001b[39;49m\u001b[43mread\u001b[49m\u001b[43m(\u001b[49m\u001b[38;5;28;43mlen\u001b[39;49m\u001b[43m,\u001b[49m\u001b[43m \u001b[49m\u001b[43mbuffer\u001b[49m\u001b[43m)\u001b[49m\n\u001b[0;32m   1131\u001b[0m \u001b[38;5;28;01melse\u001b[39;00m:\n",
      "\u001b[1;31mKeyboardInterrupt\u001b[0m: ",
      "\nDuring handling of the above exception, another exception occurred:\n",
      "\u001b[1;31mabort\u001b[0m                                     Traceback (most recent call last)",
      "File \u001b[1;32md:\\ana\\lib\\imaplib.py:1047\u001b[0m, in \u001b[0;36mIMAP4._command_complete\u001b[1;34m(self, name, tag)\u001b[0m\n\u001b[0;32m   1046\u001b[0m \u001b[38;5;28;01mtry\u001b[39;00m:\n\u001b[1;32m-> 1047\u001b[0m     typ, data \u001b[38;5;241m=\u001b[39m \u001b[38;5;28;43mself\u001b[39;49m\u001b[38;5;241;43m.\u001b[39;49m\u001b[43m_get_tagged_response\u001b[49m\u001b[43m(\u001b[49m\u001b[43mtag\u001b[49m\u001b[43m,\u001b[49m\u001b[43m \u001b[49m\u001b[43mexpect_bye\u001b[49m\u001b[38;5;241;43m=\u001b[39;49m\u001b[43mlogout\u001b[49m\u001b[43m)\u001b[49m\n\u001b[0;32m   1048\u001b[0m \u001b[38;5;28;01mexcept\u001b[39;00m \u001b[38;5;28mself\u001b[39m\u001b[38;5;241m.\u001b[39mabort \u001b[38;5;28;01mas\u001b[39;00m val:\n",
      "File \u001b[1;32md:\\ana\\lib\\imaplib.py:1173\u001b[0m, in \u001b[0;36mIMAP4._get_tagged_response\u001b[1;34m(self, tag, expect_bye)\u001b[0m\n\u001b[0;32m   1172\u001b[0m \u001b[38;5;28;01mtry\u001b[39;00m:\n\u001b[1;32m-> 1173\u001b[0m     \u001b[38;5;28;43mself\u001b[39;49m\u001b[38;5;241;43m.\u001b[39;49m\u001b[43m_get_response\u001b[49m\u001b[43m(\u001b[49m\u001b[43m)\u001b[49m\n\u001b[0;32m   1174\u001b[0m \u001b[38;5;28;01mexcept\u001b[39;00m \u001b[38;5;28mself\u001b[39m\u001b[38;5;241m.\u001b[39mabort \u001b[38;5;28;01mas\u001b[39;00m val:\n",
      "File \u001b[1;32md:\\ana\\lib\\imaplib.py:1104\u001b[0m, in \u001b[0;36mIMAP4._get_response\u001b[1;34m(self)\u001b[0m\n\u001b[0;32m   1102\u001b[0m         \u001b[38;5;28;01mreturn\u001b[39;00m \u001b[38;5;28;01mNone\u001b[39;00m     \u001b[38;5;66;03m# NB: indicates continuation\u001b[39;00m\n\u001b[1;32m-> 1104\u001b[0m     \u001b[38;5;28;01mraise\u001b[39;00m \u001b[38;5;28mself\u001b[39m\u001b[38;5;241m.\u001b[39mabort(\u001b[38;5;124m\"\u001b[39m\u001b[38;5;124munexpected response: \u001b[39m\u001b[38;5;132;01m%r\u001b[39;00m\u001b[38;5;124m\"\u001b[39m \u001b[38;5;241m%\u001b[39m resp)\n\u001b[0;32m   1106\u001b[0m typ \u001b[38;5;241m=\u001b[39m \u001b[38;5;28mself\u001b[39m\u001b[38;5;241m.\u001b[39mmo\u001b[38;5;241m.\u001b[39mgroup(\u001b[38;5;124m'\u001b[39m\u001b[38;5;124mtype\u001b[39m\u001b[38;5;124m'\u001b[39m)\n",
      "\u001b[1;31mabort\u001b[0m: unexpected response: b''",
      "\nDuring handling of the above exception, another exception occurred:\n",
      "\u001b[1;31mabort\u001b[0m                                     Traceback (most recent call last)",
      "Cell \u001b[1;32mIn[18], line 6\u001b[0m\n\u001b[0;32m      3\u001b[0m \u001b[38;5;28;01mfrom\u001b[39;00m \u001b[38;5;21;01mimbox\u001b[39;00m \u001b[38;5;28;01mimport\u001b[39;00m Imbox\n\u001b[0;32m      4\u001b[0m password \u001b[38;5;241m=\u001b[39m \u001b[38;5;124m'\u001b[39m\u001b[38;5;124mwfstimcarhefdide\u001b[39m\u001b[38;5;124m'\u001b[39m\n\u001b[1;32m----> 6\u001b[0m \u001b[38;5;28;01mwith\u001b[39;00m Imbox(\u001b[38;5;124m'\u001b[39m\u001b[38;5;124mimap.qq.com\u001b[39m\u001b[38;5;124m'\u001b[39m, \u001b[38;5;124m'\u001b[39m\u001b[38;5;124m2548538192@qq.com\u001b[39m\u001b[38;5;124m'\u001b[39m, password, ssl\u001b[38;5;241m=\u001b[39m\u001b[38;5;28;01mTrue\u001b[39;00m) \u001b[38;5;28;01mas\u001b[39;00m imbox: \n\u001b[0;32m      7\u001b[0m     \u001b[38;5;66;03m# 获取全部邮件\u001b[39;00m\n\u001b[0;32m      8\u001b[0m     inbox_messages \u001b[38;5;241m=\u001b[39m imbox\u001b[38;5;241m.\u001b[39mmessages(date__on\u001b[38;5;241m=\u001b[39m[\u001b[38;5;124m'\u001b[39m\u001b[38;5;124mSINCE\u001b[39m\u001b[38;5;124m'\u001b[39m,datetime\u001b[38;5;241m.\u001b[39mdate(\u001b[38;5;241m2024\u001b[39m, \u001b[38;5;241m3\u001b[39m, \u001b[38;5;241m19\u001b[39m)]) \n\u001b[0;32m      9\u001b[0m     \u001b[38;5;28;01mfor\u001b[39;00m uid, message \u001b[38;5;129;01min\u001b[39;00m inbox_messages: \n",
      "File \u001b[1;32md:\\ana\\lib\\site-packages\\imbox\\imbox.py:49\u001b[0m, in \u001b[0;36mImbox.__exit__\u001b[1;34m(self, type, value, traceback)\u001b[0m\n\u001b[0;32m     48\u001b[0m \u001b[38;5;28;01mdef\u001b[39;00m \u001b[38;5;21m__exit__\u001b[39m(\u001b[38;5;28mself\u001b[39m, \u001b[38;5;28mtype\u001b[39m, value, traceback):\n\u001b[1;32m---> 49\u001b[0m     \u001b[38;5;28;43mself\u001b[39;49m\u001b[38;5;241;43m.\u001b[39;49m\u001b[43mlogout\u001b[49m\u001b[43m(\u001b[49m\u001b[43m)\u001b[49m\n",
      "File \u001b[1;32md:\\ana\\lib\\site-packages\\imbox\\imbox.py:52\u001b[0m, in \u001b[0;36mImbox.logout\u001b[1;34m(self)\u001b[0m\n\u001b[0;32m     51\u001b[0m \u001b[38;5;28;01mdef\u001b[39;00m \u001b[38;5;21mlogout\u001b[39m(\u001b[38;5;28mself\u001b[39m):\n\u001b[1;32m---> 52\u001b[0m     \u001b[38;5;28;43mself\u001b[39;49m\u001b[38;5;241;43m.\u001b[39;49m\u001b[43mconnection\u001b[49m\u001b[38;5;241;43m.\u001b[39;49m\u001b[43mclose\u001b[49m\u001b[43m(\u001b[49m\u001b[43m)\u001b[49m\n\u001b[0;32m     53\u001b[0m     \u001b[38;5;28mself\u001b[39m\u001b[38;5;241m.\u001b[39mconnection\u001b[38;5;241m.\u001b[39mlogout()\n\u001b[0;32m     54\u001b[0m     logger\u001b[38;5;241m.\u001b[39minfo(\u001b[38;5;124m\"\u001b[39m\u001b[38;5;124mDisconnected from IMAP Server \u001b[39m\u001b[38;5;132;01m{username}\u001b[39;00m\u001b[38;5;124m@\u001b[39m\u001b[38;5;132;01m{hostname}\u001b[39;00m\u001b[38;5;124m\"\u001b[39m\u001b[38;5;241m.\u001b[39mformat(\n\u001b[0;32m     55\u001b[0m         hostname\u001b[38;5;241m=\u001b[39m\u001b[38;5;28mself\u001b[39m\u001b[38;5;241m.\u001b[39mhostname, username\u001b[38;5;241m=\u001b[39m\u001b[38;5;28mself\u001b[39m\u001b[38;5;241m.\u001b[39musername))\n",
      "File \u001b[1;32md:\\ana\\lib\\imaplib.py:475\u001b[0m, in \u001b[0;36mIMAP4.close\u001b[1;34m(self)\u001b[0m\n\u001b[0;32m    467\u001b[0m \u001b[38;5;124;03m\"\"\"Close currently selected mailbox.\u001b[39;00m\n\u001b[0;32m    468\u001b[0m \n\u001b[0;32m    469\u001b[0m \u001b[38;5;124;03mDeleted messages are removed from writable mailbox.\u001b[39;00m\n\u001b[1;32m   (...)\u001b[0m\n\u001b[0;32m    472\u001b[0m \u001b[38;5;124;03m(typ, [data]) = <instance>.close()\u001b[39;00m\n\u001b[0;32m    473\u001b[0m \u001b[38;5;124;03m\"\"\"\u001b[39;00m\n\u001b[0;32m    474\u001b[0m \u001b[38;5;28;01mtry\u001b[39;00m:\n\u001b[1;32m--> 475\u001b[0m     typ, dat \u001b[38;5;241m=\u001b[39m \u001b[38;5;28;43mself\u001b[39;49m\u001b[38;5;241;43m.\u001b[39;49m\u001b[43m_simple_command\u001b[49m\u001b[43m(\u001b[49m\u001b[38;5;124;43m'\u001b[39;49m\u001b[38;5;124;43mCLOSE\u001b[39;49m\u001b[38;5;124;43m'\u001b[39;49m\u001b[43m)\u001b[49m\n\u001b[0;32m    476\u001b[0m \u001b[38;5;28;01mfinally\u001b[39;00m:\n\u001b[0;32m    477\u001b[0m     \u001b[38;5;28mself\u001b[39m\u001b[38;5;241m.\u001b[39mstate \u001b[38;5;241m=\u001b[39m \u001b[38;5;124m'\u001b[39m\u001b[38;5;124mAUTH\u001b[39m\u001b[38;5;124m'\u001b[39m\n",
      "File \u001b[1;32md:\\ana\\lib\\imaplib.py:1230\u001b[0m, in \u001b[0;36mIMAP4._simple_command\u001b[1;34m(self, name, *args)\u001b[0m\n\u001b[0;32m   1228\u001b[0m \u001b[38;5;28;01mdef\u001b[39;00m \u001b[38;5;21m_simple_command\u001b[39m(\u001b[38;5;28mself\u001b[39m, name, \u001b[38;5;241m*\u001b[39margs):\n\u001b[1;32m-> 1230\u001b[0m     \u001b[38;5;28;01mreturn\u001b[39;00m \u001b[38;5;28;43mself\u001b[39;49m\u001b[38;5;241;43m.\u001b[39;49m\u001b[43m_command_complete\u001b[49m\u001b[43m(\u001b[49m\u001b[43mname\u001b[49m\u001b[43m,\u001b[49m\u001b[43m \u001b[49m\u001b[38;5;28;43mself\u001b[39;49m\u001b[38;5;241;43m.\u001b[39;49m\u001b[43m_command\u001b[49m\u001b[43m(\u001b[49m\u001b[43mname\u001b[49m\u001b[43m,\u001b[49m\u001b[43m \u001b[49m\u001b[38;5;241;43m*\u001b[39;49m\u001b[43margs\u001b[49m\u001b[43m)\u001b[49m\u001b[43m)\u001b[49m\n",
      "File \u001b[1;32md:\\ana\\lib\\imaplib.py:1049\u001b[0m, in \u001b[0;36mIMAP4._command_complete\u001b[1;34m(self, name, tag)\u001b[0m\n\u001b[0;32m   1047\u001b[0m     typ, data \u001b[38;5;241m=\u001b[39m \u001b[38;5;28mself\u001b[39m\u001b[38;5;241m.\u001b[39m_get_tagged_response(tag, expect_bye\u001b[38;5;241m=\u001b[39mlogout)\n\u001b[0;32m   1048\u001b[0m \u001b[38;5;28;01mexcept\u001b[39;00m \u001b[38;5;28mself\u001b[39m\u001b[38;5;241m.\u001b[39mabort \u001b[38;5;28;01mas\u001b[39;00m val:\n\u001b[1;32m-> 1049\u001b[0m     \u001b[38;5;28;01mraise\u001b[39;00m \u001b[38;5;28mself\u001b[39m\u001b[38;5;241m.\u001b[39mabort(\u001b[38;5;124m'\u001b[39m\u001b[38;5;124mcommand: \u001b[39m\u001b[38;5;132;01m%s\u001b[39;00m\u001b[38;5;124m => \u001b[39m\u001b[38;5;132;01m%s\u001b[39;00m\u001b[38;5;124m'\u001b[39m \u001b[38;5;241m%\u001b[39m (name, val))\n\u001b[0;32m   1050\u001b[0m \u001b[38;5;28;01mexcept\u001b[39;00m \u001b[38;5;28mself\u001b[39m\u001b[38;5;241m.\u001b[39merror \u001b[38;5;28;01mas\u001b[39;00m val:\n\u001b[0;32m   1051\u001b[0m     \u001b[38;5;28;01mraise\u001b[39;00m \u001b[38;5;28mself\u001b[39m\u001b[38;5;241m.\u001b[39merror(\u001b[38;5;124m'\u001b[39m\u001b[38;5;124mcommand: \u001b[39m\u001b[38;5;132;01m%s\u001b[39;00m\u001b[38;5;124m => \u001b[39m\u001b[38;5;132;01m%s\u001b[39;00m\u001b[38;5;124m'\u001b[39m \u001b[38;5;241m%\u001b[39m (name, val))\n",
      "\u001b[1;31mabort\u001b[0m: command: CLOSE => unexpected response: b''"
     ]
    }
   ],
   "source": [
    "import keyring \n",
    "import datetime\n",
    "from imbox import Imbox\n",
    "password = 'wfstimcarhefdide'\n",
    " \n",
    "with Imbox('imap.qq.com', '2548538192@qq.com', password, ssl=True) as imbox: \n",
    "    # 获取全部邮件\n",
    "    inbox_messages = imbox.messages(date__on=['SINCE',datetime.date(2024, 3, 19)]) \n",
    "    for uid, message in inbox_messages: \n",
    "        print(message.subject)  # 邮件主题\n",
    "    #     # print(message.body['plain']) # 邮件文本格式正文\n",
    "# inbox_messages"
   ]
  }
 ],
 "metadata": {
  "kernelspec": {
   "display_name": "base",
   "language": "python",
   "name": "python3"
  },
  "language_info": {
   "codemirror_mode": {
    "name": "ipython",
    "version": 3
   },
   "file_extension": ".py",
   "mimetype": "text/x-python",
   "name": "python",
   "nbconvert_exporter": "python",
   "pygments_lexer": "ipython3",
   "version": "3.10.9"
  }
 },
 "nbformat": 4,
 "nbformat_minor": 2
}
