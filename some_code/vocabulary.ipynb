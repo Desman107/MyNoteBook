{
 "cells": [
  {
   "cell_type": "code",
   "execution_count": null,
   "metadata": {},
   "outputs": [],
   "source": []
  },
  {
   "cell_type": "code",
   "execution_count": 33,
   "metadata": {},
   "outputs": [],
   "source": [
    "import datetime\n",
    "import os\n",
    "\n",
    "save_path = 'E:\\笔记\\MyNoteBook\\\\vocabulary\\\\'\n",
    "load_path = 'E:\\笔记\\MyNoteBook\\\\vocabulary\\\\txt\\\\'"
   ]
  },
  {
   "cell_type": "code",
   "execution_count": 34,
   "metadata": {},
   "outputs": [],
   "source": [
    "load_file_name = datetime.datetime.today().strftime(\"%Y%m%d\") + '.txt'\n",
    "save_file_name = datetime.datetime.today().strftime(\"%Y%m%d\") + '.md'\n",
    "save_path = save_path + save_file_name\n",
    "load_path = load_path + load_file_name"
   ]
  },
  {
   "cell_type": "code",
   "execution_count": 35,
   "metadata": {},
   "outputs": [],
   "source": [
    "path = 'E:\\笔记\\MyNoteBook\\\\vocabulary\\\\txt\\\\240326.txt'\n",
    "f = open(path, 'r', encoding='utf-8')"
   ]
  },
  {
   "cell_type": "code",
   "execution_count": 36,
   "metadata": {},
   "outputs": [],
   "source": [
    "lis = f.readlines()\n",
    "lis = [x.strip() for x in lis]\n",
    "f.close()"
   ]
  },
  {
   "cell_type": "code",
   "execution_count": 37,
   "metadata": {},
   "outputs": [],
   "source": [
    "\n",
    "content = f\"\"\"\n",
    "# { datetime.date.today() } \n",
    "\n",
    "## vocabulary\n",
    "{','.join(lis)}\n",
    "\n",
    "## example essay\n",
    "\n",
    "\"\"\""
   ]
  },
  {
   "cell_type": "code",
   "execution_count": 38,
   "metadata": {},
   "outputs": [
    {
     "name": "stdout",
     "output_type": "stream",
     "text": [
      "Markdown文件'E:\\笔记\\MyNoteBook\\vocabulary\\20240327.md'已生成并写入内容。\n"
     ]
    }
   ],
   "source": [
    "with open(save_path, 'w', encoding='utf-8') as md_file:\n",
    "    md_file.write(content)\n",
    "\n",
    "print(f\"Markdown文件'{save_path}'已生成并写入内容。\")"
   ]
  },
  {
   "cell_type": "code",
   "execution_count": 40,
   "metadata": {},
   "outputs": [
    {
     "name": "stdout",
     "output_type": "stream",
     "text": [
      "place write a brief essay using the vocabulary as follows:client,compare,approve,transparent,cassette,fraud,bind,deputy,fragrance,marketplace,ripe,acute,formulate,vet,collate,fiction,ability,infer,sector,creep\n"
     ]
    }
   ],
   "source": [
    "print(\"place write several easy example sentence using the following vocabulary:\"+','.join(lis))"
   ]
  }
 ],
 "metadata": {
  "kernelspec": {
   "display_name": "base",
   "language": "python",
   "name": "python3"
  },
  "language_info": {
   "codemirror_mode": {
    "name": "ipython",
    "version": 3
   },
   "file_extension": ".py",
   "mimetype": "text/x-python",
   "name": "python",
   "nbconvert_exporter": "python",
   "pygments_lexer": "ipython3",
   "version": "3.10.9"
  }
 },
 "nbformat": 4,
 "nbformat_minor": 2
}
